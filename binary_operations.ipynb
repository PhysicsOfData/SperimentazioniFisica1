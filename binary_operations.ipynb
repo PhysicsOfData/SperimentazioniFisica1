{
 "cells": [
  {
   "cell_type": "code",
   "execution_count": 1,
   "id": "ef665bd8",
   "metadata": {},
   "outputs": [],
   "source": [
    "def exp(x, epsilon=1e-10):\n",
    "    result = 1\n",
    "    term = 1\n",
    "    i = 1\n",
    "    while abs(term) > epsilon:\n",
    "        term *= x / i\n",
    "        result += term\n",
    "        i += 1\n",
    "    return result"
   ]
  },
  {
   "cell_type": "code",
   "execution_count": 2,
   "id": "e084b204",
   "metadata": {},
   "outputs": [
    {
     "data": {
      "text/plain": [
       "148.41315910257242"
      ]
     },
     "execution_count": 2,
     "metadata": {},
     "output_type": "execute_result"
    }
   ],
   "source": [
    "exp(5)"
   ]
  },
  {
   "cell_type": "code",
   "execution_count": 3,
   "id": "35d8deb9",
   "metadata": {},
   "outputs": [],
   "source": [
    "import numpy as np"
   ]
  },
  {
   "cell_type": "code",
   "execution_count": 4,
   "id": "5b55b094",
   "metadata": {},
   "outputs": [
    {
     "data": {
      "text/plain": [
       "148.4131591025766"
      ]
     },
     "execution_count": 4,
     "metadata": {},
     "output_type": "execute_result"
    }
   ],
   "source": [
    "np.exp(5)"
   ]
  },
  {
   "cell_type": "markdown",
   "id": "bf77b677",
   "metadata": {},
   "source": [
    "## Russian peasant algorithm"
   ]
  },
  {
   "cell_type": "code",
   "execution_count": null,
   "id": "4d1a4968",
   "metadata": {},
   "outputs": [],
   "source": [
    "def multiply(a, b):\n",
    "    result = 0\n",
    "    while b != 0:\n",
    "        if b % 2 == 1:\n",
    "            result = add(result, a)\n",
    "        a = shift_left(a)\n",
    "        b = b // 2\n",
    "    return result\n",
    "\n",
    "def add(a, b):\n",
    "    return (a + b) % 2\n",
    "\n",
    "def shift_left(a):\n",
    "    return a * 2\n"
   ]
  }
 ],
 "metadata": {
  "kernelspec": {
   "display_name": "Python 3 (ipykernel)",
   "language": "python",
   "name": "python3"
  },
  "language_info": {
   "codemirror_mode": {
    "name": "ipython",
    "version": 3
   },
   "file_extension": ".py",
   "mimetype": "text/x-python",
   "name": "python",
   "nbconvert_exporter": "python",
   "pygments_lexer": "ipython3",
   "version": "3.9.17"
  }
 },
 "nbformat": 4,
 "nbformat_minor": 5
}
